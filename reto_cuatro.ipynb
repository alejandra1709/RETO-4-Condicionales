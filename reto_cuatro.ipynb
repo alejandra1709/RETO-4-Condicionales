{
 "cells": [
  {
   "cell_type": "code",
   "execution_count": 83,
   "metadata": {},
   "outputs": [
    {
     "name": "stdout",
     "output_type": "stream",
     "text": [
      "El número  65 ( = A ) NO corresponde al código ASCII de una vocal en minúscula\n"
     ]
    }
   ],
   "source": [
    "#Dado un número entero, determinar si ese número corresponde al código ASCII de una vocal minúscula.\n",
    "num: int = int(input(\"Escriba un número entero: \"))\n",
    "letra: str = chr(num)\n",
    "if num==97 or num==101 or num ==105 or num==111 or num==117:\n",
    "    print (\"El número \",num,\"( =\",letra,\") SÍ corresponde al código ASCII de una vocal en minúscula\")\n",
    "else:\n",
    "    print (\"El número \",num,\"( =\",letra,\") NO corresponde al código ASCII de una vocal en minúscula\")"
   ]
  },
  {
   "cell_type": "code",
   "execution_count": 92,
   "metadata": {},
   "outputs": [
    {
     "name": "stdout",
     "output_type": "stream",
     "text": [
      "El código ASCII que le corresponde a la letra u es un número impar ( 117 )\n"
     ]
    }
   ],
   "source": [
    "#Dada una cadena de longitud 1, determine si el código ASCII de primera letra de la cadena es par o no.\n",
    "cadena: str = input(\"Ingrese una letra (cadena de longitud 1): \")\n",
    "ascii=ord(cadena)\n",
    "if ascii%2==0:\n",
    "    print(\"El código ASCII que le corresppnde a la letra\" ,cadena, \"es un número par (\",ascii,\")\")\n",
    "else:\n",
    "    print(\"El código ASCII que le corresponde a la letra\" ,cadena, \"es un número impar (\",ascii,\")\")"
   ]
  },
  {
   "cell_type": "code",
   "execution_count": 97,
   "metadata": {},
   "outputs": [
    {
     "name": "stdout",
     "output_type": "stream",
     "text": [
      "El caracter ingresado es un dígito ( 6 )\n"
     ]
    }
   ],
   "source": [
    "#Dado un carácter, construya un programa en Python para determinar si el carácter es un dígito o no.\n",
    "caracter : str = input(\"Ingrese un caracter: \")\n",
    "codigo_caracter : int = ord(caracter)\n",
    "if codigo_caracter>=48 and codigo_caracter<=57:\n",
    "    print(\"El caracter ingresado es un dígito (\",caracter,\")\")\n",
    "else:\n",
    "    print(\"El caracter ingresado NO es un dígito (\",caracter,\")\")"
   ]
  },
  {
   "cell_type": "code",
   "execution_count": 3,
   "metadata": {},
   "outputs": [
    {
     "name": "stdout",
     "output_type": "stream",
     "text": [
      "El número 0.0 es el neutro para la suma\n"
     ]
    }
   ],
   "source": [
    "#Dado un número real x, construya un programa que permita determinar si el número es positivo, negativo o cero. Para cada caso de debe imprimir el texto que se especifica a continuación:\n",
    "#Positivo: \"El número x es positivo\"\n",
    "#Negativo: \"El número x es negativo\"\n",
    "#Cero (0): \"El número x es el neutro para la suma\"\n",
    "real : float = float(input(\"Ingrese un número real: \"))\n",
    "if real>0:\n",
    "    print(\"El número\",real,\"es positivo\")\n",
    "elif real<0:\n",
    "    print(\"El número\",real,\"es negativo\")\n",
    "else:\n",
    "    print(\"El número\",real,\"es el neutro para la suma\")"
   ]
  },
  {
   "cell_type": "code",
   "execution_count": 103,
   "metadata": {},
   "outputs": [
    {
     "name": "stdout",
     "output_type": "stream",
     "text": [
      "El punto ( -4.0 , 1.0 ) no pertenece al interior de la circunferencia\n"
     ]
    }
   ],
   "source": [
    "#Dado el centro y el radio de un círculo, determinar si un punto de R2 pertenece o no al interior del círculo.\n",
    "puntoX_centro : float = float(input(\"Escriba la abscisa del centro de la circunferencia: \"))\n",
    "puntoY_centro : float = float(input(\"Escriba la ordenada del centro de la circunferencia: \"))\n",
    "radio : float = float (input(\"Escriba el radio de la circunferencia: \"))\n",
    "puntoX_R2: float = float(input(\"Escriba la abscisa del punto a evaluar: \"))\n",
    "puntoY_R2: float = float(input(\"Escriba la ordenada del punto a evaluar: \"))\n",
    "if (puntoX_R2-puntoX_centro)**2 + (puntoY_R2-puntoY_centro)**2 < radio**2:\n",
    "    print(\"El punto (\",puntoX_R2,\",\",puntoY_R2,\") pertenece al interior de la circunferencia\")\n",
    "elif (puntoX_R2-puntoX_centro)**2 + (puntoY_R2-puntoY_centro)**2 == radio**2:\n",
    "    print(\"El punto (\",puntoX_R2,\",\",puntoY_R2,\") es parte de la circunferencia\")\n",
    "else:\n",
    "    print(\"El punto (\",puntoX_R2,\",\",puntoY_R2,\") no pertenece al interior de la circunferencia\")"
   ]
  },
  {
   "cell_type": "code",
   "execution_count": 108,
   "metadata": {},
   "outputs": [
    {
     "name": "stdout",
     "output_type": "stream",
     "text": [
      "No es posible construir un triángulo con las longitudes 6.0 , 5.0 y 12.0\n"
     ]
    }
   ],
   "source": [
    "#Dadas tres longitudes positivas, determinar si con esas longitudes se puede construir un triángulo.\n",
    "primera_longitud : float = float(input(\"Escriba la primera longitud en centímetros: \"))\n",
    "segunda_longitud : float = float(input(\"Escriba la segunda longitud en centímetros: \"))\n",
    "tercera_longitud : float = float(input(\"Escriba la tercera longitud en centímetros: \"))\n",
    "if primera_longitud+segunda_longitud>tercera_longitud and primera_longitud+tercera_longitud>segunda_longitud and segunda_longitud+tercera_longitud>primera_longitud:\n",
    "    print(\"Sí es posible construir un triángulo con las longitudes\",primera_longitud,\",\",segunda_longitud,\"y\",tercera_longitud)\n",
    "else:\n",
    "    print(\"No es posible construir un triángulo con las longitudes\",primera_longitud,\",\",segunda_longitud,\"y\",tercera_longitud)"
   ]
  }
 ],
 "metadata": {
  "kernelspec": {
   "display_name": "Python 3",
   "language": "python",
   "name": "python3"
  },
  "language_info": {
   "codemirror_mode": {
    "name": "ipython",
    "version": 3
   },
   "file_extension": ".py",
   "mimetype": "text/x-python",
   "name": "python",
   "nbconvert_exporter": "python",
   "pygments_lexer": "ipython3",
   "version": "3.12.1"
  }
 },
 "nbformat": 4,
 "nbformat_minor": 2
}
